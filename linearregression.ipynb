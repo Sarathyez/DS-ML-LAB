{
  "nbformat": 4,
  "nbformat_minor": 0,
  "metadata": {
    "colab": {
      "provenance": []
    },
    "kernelspec": {
      "name": "python3",
      "display_name": "Python 3"
    },
    "language_info": {
      "name": "python"
    }
  },
  "cells": [
    {
      "cell_type": "code",
      "execution_count": 47,
      "metadata": {
        "id": "ENON1C-l6o9w"
      },
      "outputs": [],
      "source": [
        "import matplotlib.pyplot as plt\n",
        "import numpy as np\n",
        "from sklearn.metrics import mean_squared_error,r2_score\n",
        "from sklearn import datasets,linear_model\n",
        "from sklearn.model_selection import train_test_split\n",
        "import pandas as pd\n"
      ]
    },
    {
      "cell_type": "code",
      "source": [
        "df = datasets.load_diabetes()"
      ],
      "metadata": {
        "id": "zBquORWC7Koq"
      },
      "execution_count": 50,
      "outputs": []
    },
    {
      "cell_type": "code",
      "source": [
        "#df.head()\n",
        "print(ds.feature_names)"
      ],
      "metadata": {
        "colab": {
          "base_uri": "https://localhost:8080/"
        },
        "id": "HvpvAWHX7rJd",
        "outputId": "cab5cf6a-e727-47b8-d342-7eb0d975a91a"
      },
      "execution_count": 52,
      "outputs": [
        {
          "output_type": "stream",
          "name": "stdout",
          "text": [
            "['age', 'sex', 'bmi', 'bp', 's1', 's2', 's3', 's4', 's5', 's6']\n"
          ]
        }
      ]
    },
    {
      "cell_type": "code",
      "source": [
        "X=ds.data\n",
        "y=ds.target\n",
        "X"
      ],
      "metadata": {
        "id": "QVYOrDBI7zTV"
      },
      "execution_count": null,
      "outputs": []
    },
    {
      "cell_type": "code",
      "source": [
        "X.shape\n",
        "y"
      ],
      "metadata": {
        "id": "ohLRfnFJ8BIo"
      },
      "execution_count": null,
      "outputs": []
    },
    {
      "cell_type": "code",
      "source": [
        "y.shape"
      ],
      "metadata": {
        "colab": {
          "base_uri": "https://localhost:8080/"
        },
        "id": "wHIlXa8G9HMA",
        "outputId": "e4e9d01c-3c10-4c6e-9637-64f1dd9ac333"
      },
      "execution_count": 6,
      "outputs": [
        {
          "output_type": "execute_result",
          "data": {
            "text/plain": [
              "(442,)"
            ]
          },
          "metadata": {},
          "execution_count": 6
        }
      ]
    },
    {
      "cell_type": "code",
      "source": [
        "X=X[:,np.newaxis,2]"
      ],
      "metadata": {
        "id": "BmBszqXM9Jku"
      },
      "execution_count": 55,
      "outputs": []
    },
    {
      "cell_type": "code",
      "source": [
        "X.shape"
      ],
      "metadata": {
        "colab": {
          "base_uri": "https://localhost:8080/"
        },
        "id": "wY4GDDyB9e8G",
        "outputId": "8e7a275f-e067-4b4d-93ab-f3064f6cde46"
      },
      "execution_count": 56,
      "outputs": [
        {
          "output_type": "execute_result",
          "data": {
            "text/plain": [
              "(442, 1)"
            ]
          },
          "metadata": {},
          "execution_count": 56
        }
      ]
    },
    {
      "cell_type": "code",
      "source": [
        "X_train,X_test,y_train,y_test=train_test_split(X,y,test_size=0.2)\n",
        "#x_train=x[:-20]\n",
        "#y_train=y[:-20]\n",
        "#x_test=x[-20:]\n",
        "#y_test=y[-20:]"
      ],
      "metadata": {
        "id": "IohM4jtT9ijC"
      },
      "execution_count": 57,
      "outputs": []
    },
    {
      "cell_type": "code",
      "source": [
        "#print(x_train,y_train)\n",
        "len(X_train)"
      ],
      "metadata": {
        "colab": {
          "base_uri": "https://localhost:8080/"
        },
        "id": "Rd28Hw3k9nNR",
        "outputId": "bc15ed52-c7aa-40d1-e471-2138b975a3a6"
      },
      "execution_count": 62,
      "outputs": [
        {
          "output_type": "execute_result",
          "data": {
            "text/plain": [
              "353"
            ]
          },
          "metadata": {},
          "execution_count": 62
        }
      ]
    },
    {
      "cell_type": "code",
      "source": [
        "#print(x_test,y_test)\n",
        "#len(y_train)\n",
        "len(y_test)"
      ],
      "metadata": {
        "colab": {
          "base_uri": "https://localhost:8080/"
        },
        "id": "CELrvQMV-Bmg",
        "outputId": "7646225a-a9bc-4878-9daf-e23c53ac4c2d"
      },
      "execution_count": 65,
      "outputs": [
        {
          "output_type": "execute_result",
          "data": {
            "text/plain": [
              "89"
            ]
          },
          "metadata": {},
          "execution_count": 65
        }
      ]
    },
    {
      "cell_type": "code",
      "source": [
        "reg=linear_model.LinearRegression()"
      ],
      "metadata": {
        "id": "MR1kGbDz-Nm4"
      },
      "execution_count": 32,
      "outputs": []
    },
    {
      "cell_type": "code",
      "source": [
        "reg.fit(X_train,y_train)"
      ],
      "metadata": {
        "colab": {
          "base_uri": "https://localhost:8080/"
        },
        "id": "0HEe963x_TQ-",
        "outputId": "ffafa39e-8963-4724-9914-31e3bb543345"
      },
      "execution_count": 66,
      "outputs": [
        {
          "output_type": "execute_result",
          "data": {
            "text/plain": [
              "LinearRegression()"
            ]
          },
          "metadata": {},
          "execution_count": 66
        }
      ]
    },
    {
      "cell_type": "code",
      "source": [
        "reg.predict(x_test)"
      ],
      "metadata": {
        "colab": {
          "base_uri": "https://localhost:8080/"
        },
        "id": "f7la2LJA_dUQ",
        "outputId": "b8679086-4acd-491d-a604-24c5dffd2d3e"
      },
      "execution_count": 67,
      "outputs": [
        {
          "output_type": "execute_result",
          "data": {
            "text/plain": [
              "array([225.32988361, 113.8968182 , 161.94593815, 112.8744965 ,\n",
              "       119.0084267 , 156.83432964, 235.55310062, 120.03074841,\n",
              "        97.53967098, 122.07539181, 203.86112789,  94.47270588,\n",
              "       152.74504284, 129.23164371,  81.18252377, 170.12451176,\n",
              "       136.38789562, 136.38789562, 188.52630238,  82.20484547])"
            ]
          },
          "metadata": {},
          "execution_count": 67
        }
      ]
    },
    {
      "cell_type": "code",
      "source": [
        "#print(reg.coef_)\n",
        "y_test"
      ],
      "metadata": {
        "colab": {
          "base_uri": "https://localhost:8080/"
        },
        "id": "S-uamklR_snc",
        "outputId": "36689393-aec0-4e8f-d1a5-6081a2bf59cf"
      },
      "execution_count": 68,
      "outputs": [
        {
          "output_type": "execute_result",
          "data": {
            "text/plain": [
              "array([270., 104., 153., 132., 292., 264., 109., 103., 225., 202.,  78.,\n",
              "       104.,  77., 113., 206., 219.,  84., 195., 154.,  53., 135., 220.,\n",
              "       198.,  73.,  97.,  95., 150., 131., 214., 125., 210.,  74., 139.,\n",
              "        84.,  71., 277., 174., 275., 242., 232.,  54., 209., 283.,  57.,\n",
              "        68.,  63., 277.,  80., 185., 258.,  88., 281., 200., 246., 263.,\n",
              "        25.,  96., 107., 143.,  52., 244.,  75., 173.,  49., 272.,  65.,\n",
              "       273.,  79.,  85.,  64.,  37., 110., 270., 235., 116., 229., 138.,\n",
              "        84., 161., 252.,  60.,  49., 293.,  72.,  89., 178.,  60., 265.,\n",
              "       317.])"
            ]
          },
          "metadata": {},
          "execution_count": 68
        }
      ]
    },
    {
      "cell_type": "code",
      "source": [
        "#print(reg.intercept_)\n",
        "reg.score(X_test,y_test)"
      ],
      "metadata": {
        "colab": {
          "base_uri": "https://localhost:8080/"
        },
        "id": "9QobJ4I59jnp",
        "outputId": "a86f483a-fbf1-419e-e805-b0bbb0128612"
      },
      "execution_count": 69,
      "outputs": [
        {
          "output_type": "execute_result",
          "data": {
            "text/plain": [
              "0.29319433680734397"
            ]
          },
          "metadata": {},
          "execution_count": 69
        }
      ]
    },
    {
      "cell_type": "code",
      "source": [
        "print(mean_squared_error(y_test,y_pred))"
      ],
      "metadata": {
        "colab": {
          "base_uri": "https://localhost:8080/"
        },
        "id": "7_aIP1399qfu",
        "outputId": "16a45c8a-46f3-4146-b325-d6a27fbb6457"
      },
      "execution_count": 38,
      "outputs": [
        {
          "output_type": "stream",
          "name": "stdout",
          "text": [
            "2548.0723987259694\n"
          ]
        }
      ]
    },
    {
      "cell_type": "code",
      "source": [
        "print(r2_score(y_test,y_pred))"
      ],
      "metadata": {
        "colab": {
          "base_uri": "https://localhost:8080/"
        },
        "id": "DQvw5c-R96qj",
        "outputId": "4b75d5e6-68d0-4e04-d1d0-f719de117fd8"
      },
      "execution_count": 39,
      "outputs": [
        {
          "output_type": "stream",
          "name": "stdout",
          "text": [
            "0.47257544798227147\n"
          ]
        }
      ]
    },
    {
      "cell_type": "code",
      "source": [
        "print(r2_score(y_test,y_pred))"
      ],
      "metadata": {
        "colab": {
          "base_uri": "https://localhost:8080/"
        },
        "id": "8RJbJadn-cKB",
        "outputId": "f42a0d3e-8362-4710-e301-44dea67e4854"
      },
      "execution_count": 37,
      "outputs": [
        {
          "output_type": "stream",
          "name": "stdout",
          "text": [
            "0.47257544798227147\n"
          ]
        }
      ]
    },
    {
      "cell_type": "code",
      "source": [],
      "metadata": {
        "id": "uzh74E_rY0y3"
      },
      "execution_count": null,
      "outputs": []
    }
  ]
}