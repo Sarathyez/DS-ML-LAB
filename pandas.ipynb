{
  "nbformat": 4,
  "nbformat_minor": 0,
  "metadata": {
    "colab": {
      "provenance": []
    },
    "kernelspec": {
      "name": "python3",
      "display_name": "Python 3"
    },
    "language_info": {
      "name": "python"
    }
  },
  "cells": [
    {
      "cell_type": "code",
      "source": [
        "import pandas as pd;\n"
      ],
      "metadata": {
        "id": "49UQV-qEwZQU"
      },
      "execution_count": 9,
      "outputs": []
    },
    {
      "cell_type": "code",
      "source": [
        "l=[12,23,34]\n",
        "x=pd.Series(l)\n",
        "print(x)\n"
      ],
      "metadata": {
        "colab": {
          "base_uri": "https://localhost:8080/"
        },
        "id": "BYh3R1gewZ8s",
        "outputId": "7a10da4d-3c5b-4094-e087-0a8651918834"
      },
      "execution_count": 10,
      "outputs": [
        {
          "output_type": "stream",
          "name": "stdout",
          "text": [
            "0    12\n",
            "1    23\n",
            "2    34\n",
            "dtype: int64\n"
          ]
        }
      ]
    },
    {
      "cell_type": "code",
      "source": [
        "date_series = pd.date_range(start = '05-01-2021', end = '05-12-2021')\n",
        "print(date_series)"
      ],
      "metadata": {
        "colab": {
          "base_uri": "https://localhost:8080/"
        },
        "id": "g1SEsmCjwcNf",
        "outputId": "4672ed62-5077-4391-aea0-7b38efec2518"
      },
      "execution_count": 11,
      "outputs": [
        {
          "output_type": "stream",
          "name": "stdout",
          "text": [
            "DatetimeIndex(['2021-05-01', '2021-05-02', '2021-05-03', '2021-05-04',\n",
            "               '2021-05-05', '2021-05-06', '2021-05-07', '2021-05-08',\n",
            "               '2021-05-09', '2021-05-10', '2021-05-11', '2021-05-12'],\n",
            "              dtype='datetime64[ns]', freq='D')\n"
          ]
        }
      ]
    },
    {
      "cell_type": "code",
      "source": [
        "d = {'name': ['Vinay', 'Kushal', 'Aman'],'age' : [22, 25, 24],'job' : ['engineer', 'doctor', 'accountant']}\n",
        "df = pd.DataFrame(d)\n",
        "print(df)"
      ],
      "metadata": {
        "colab": {
          "base_uri": "https://localhost:8080/"
        },
        "id": "006IdVYPwfcf",
        "outputId": "7d36dbb6-a60f-4c03-e3b5-f7022851c700"
      },
      "execution_count": 12,
      "outputs": [
        {
          "output_type": "stream",
          "name": "stdout",
          "text": [
            "     name  age         job\n",
            "0   Vinay   22    engineer\n",
            "1  Kushal   25      doctor\n",
            "2    Aman   24  accountant\n"
          ]
        }
      ]
    },
    {
      "cell_type": "code",
      "source": [
        "lists = [[2, 'Vishnu', 22],\n",
        "         [1, 'Kushi', 25],\n",
        "         [1, 'Amal', 24]]\n",
        "dataframe = pd.DataFrame(lists, columns = ['id', 'name', 'age'])\n",
        "print(dataframe)"
      ],
      "metadata": {
        "colab": {
          "base_uri": "https://localhost:8080/"
        },
        "id": "UpUA81cJwjo2",
        "outputId": "7f950eff-0069-4d62-cd66-5cc38b773716"
      },
      "execution_count": 13,
      "outputs": [
        {
          "output_type": "stream",
          "name": "stdout",
          "text": [
            "   id    name  age\n",
            "0   2  Vishnu   22\n",
            "1   1   Kushi   25\n",
            "2   1    Amal   24\n"
          ]
        }
      ]
    },
    {
      "cell_type": "code",
      "source": [],
      "metadata": {
        "id": "z9-3er4iwp3p"
      },
      "execution_count": null,
      "outputs": []
    }
  ]
}